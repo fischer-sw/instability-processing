{
 "cells": [
  {
   "cell_type": "markdown",
   "metadata": {},
   "source": [
    "# Smart Home Data Analysis"
   ]
  },
  {
   "cell_type": "code",
   "execution_count": 293,
   "metadata": {},
   "outputs": [
    {
     "name": "stdout",
     "output_type": "stream",
     "text": [
      "The autoreload extension is already loaded. To reload it, use:\n",
      "  %reload_ext autoreload\n"
     ]
    }
   ],
   "source": [
    "# basic imports and notebook configurations\n",
    "# standard Python modules\n",
    "import calendar\n",
    "import copy\n",
    "import csv\n",
    "import datetime\n",
    "import importlib\n",
    "import itertools\n",
    "import logging\n",
    "import os\n",
    "import sys\n",
    "\n",
    "# additional Python modules\n",
    "import dateutil\n",
    "import matplotlib.pyplot as plt\n",
    "import numpy as np\n",
    "import pytz\n",
    "%load_ext autoreload\n",
    "%autoreload 2\n",
    "%matplotlib inline\n",
    "\n",
    "# own python modules\n",
    "from methods import *\n",
    "\n",
    "# %aimport analyis\n",
    "#importlib.reload(influx_db)\n",
    "#importlib.reload(plot_tools)\n",
    "plt.style.use('classic')"
   ]
  },
  {
   "cell_type": "markdown",
   "metadata": {},
   "source": [
    "## logging configuration"
   ]
  },
  {
   "cell_type": "code",
   "execution_count": 294,
   "metadata": {},
   "outputs": [],
   "source": [
    "logging.basicConfig(format='%(asctime)s %(levelname)s %(message)s', datefmt='%Y-%m-%d %H:%M:%S')\n",
    "log = logging.getLogger(os.path.splitext(os.path.basename(sys.argv[0]))[0])\n",
    "log.setLevel(logging.DEBUG)"
   ]
  },
  {
   "attachments": {},
   "cell_type": "markdown",
   "metadata": {},
   "source": [
    "### Development setup"
   ]
  },
  {
   "cell_type": "code",
   "execution_count": 295,
   "metadata": {},
   "outputs": [
    {
     "name": "stderr",
     "output_type": "stream",
     "text": [
      "2023-04-04 11:46:11,969 - INFO - methods.py - get_image_files - found 334 images\n",
      "2023-04-04 11:46:11,971 - INFO - methods.py - make_histo - Already created histogramm for image 00000050_0000000042597509 in folder png_cases\n",
      "2023-04-04 11:46:12,010 - INFO - methods.py - segment_camera - Cam seed value: 24\n",
      "2023-04-04 11:46:12,092 - INFO - methods.py - segment_camera - Unique values cam [0 1]\n",
      "2023-04-04 11:46:12,455 - INFO - methods.py - segment_instability - Insta seed value: 63\n",
      "2023-04-04 11:46:14,237 - INFO - methods.py - segment_instability - Unique values insta [0 1]\n",
      "2023-04-04 11:46:16,303 - INFO - methods.py - make_histo - Already created histogramm for image 00000050_0000000042597509 in folder png_cases\n"
     ]
    }
   ],
   "source": [
    "# read config\n",
    "config = get_config()\n",
    "# get dev case\n",
    "case = config[\"cases\"][0]\n",
    "# get image name\n",
    "image = get_image_files(config, case, \"png_cases\")[0]\n",
    "\n",
    "process_image(image, config, case)"
   ]
  }
 ],
 "metadata": {
  "kernelspec": {
   "display_name": "Python 3.7.6 64-bit",
   "language": "python",
   "name": "python3"
  },
  "language_info": {
   "codemirror_mode": {
    "name": "ipython",
    "version": 3
   },
   "file_extension": ".py",
   "mimetype": "text/x-python",
   "name": "python",
   "nbconvert_exporter": "python",
   "pygments_lexer": "ipython3",
   "version": "3.10.10"
  },
  "vscode": {
   "interpreter": {
    "hash": "d49c3f6d6dd49f9272b571d9fad348ab55b8c6c3f691520d74ed0af1f69c3dd8"
   }
  }
 },
 "nbformat": 4,
 "nbformat_minor": 2
}
