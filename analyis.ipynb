{
 "cells": [
  {
   "cell_type": "markdown",
   "metadata": {},
   "source": [
    "# Smart Home Data Analysis"
   ]
  },
  {
   "cell_type": "code",
   "execution_count": 1,
   "metadata": {},
   "outputs": [],
   "source": [
    "# basic imports and notebook configurations\n",
    "# standard Python modules\n",
    "import calendar\n",
    "import copy\n",
    "import csv\n",
    "import datetime\n",
    "import importlib\n",
    "import itertools\n",
    "import logging\n",
    "import os\n",
    "import sys\n",
    "\n",
    "# additional Python modules\n",
    "import dateutil\n",
    "import matplotlib.pyplot as plt\n",
    "import numpy as np\n",
    "import pytz\n",
    "%load_ext autoreload\n",
    "%autoreload 2\n",
    "%matplotlib inline\n",
    "\n",
    "# own python modules\n",
    "from methods import *\n",
    "\n",
    "# %aimport analyis\n",
    "#importlib.reload(influx_db)\n",
    "#importlib.reload(plot_tools)\n",
    "plt.style.use('classic')"
   ]
  },
  {
   "cell_type": "markdown",
   "metadata": {},
   "source": [
    "## logging configuration"
   ]
  },
  {
   "cell_type": "code",
   "execution_count": 2,
   "metadata": {},
   "outputs": [],
   "source": [
    "logging.basicConfig(format='%(asctime)s %(levelname)s %(message)s', datefmt='%Y-%m-%d %H:%M:%S')\n",
    "log = logging.getLogger(os.path.splitext(os.path.basename(sys.argv[0]))[0])\n",
    "log.setLevel(logging.DEBUG)"
   ]
  },
  {
   "attachments": {},
   "cell_type": "markdown",
   "metadata": {},
   "source": [
    "### Development setup"
   ]
  },
  {
   "cell_type": "code",
   "execution_count": 3,
   "metadata": {},
   "outputs": [
    {
     "name": "stderr",
     "output_type": "stream",
     "text": [
      "2023-04-02 10:13:43,440 - ERROR - methods.py - get_image_files - Data directory /home/daniel/Documents/instability-processing/data doesn't exsist. Please check config for valid path.\n"
     ]
    },
    {
     "ename": "NameError",
     "evalue": "name 'exit' is not defined",
     "output_type": "error",
     "traceback": [
      "\u001b[1;31m---------------------------------------------------------------------------\u001b[0m",
      "\u001b[1;31mNameError\u001b[0m                                 Traceback (most recent call last)",
      "Cell \u001b[1;32mIn[3], line 6\u001b[0m\n\u001b[0;32m      4\u001b[0m case \u001b[39m=\u001b[39m config[\u001b[39m\"\u001b[39m\u001b[39mcases\u001b[39m\u001b[39m\"\u001b[39m][\u001b[39m0\u001b[39m]\n\u001b[0;32m      5\u001b[0m \u001b[39m# get image name\u001b[39;00m\n\u001b[1;32m----> 6\u001b[0m image \u001b[39m=\u001b[39m get_image_files(config, case, \u001b[39m\"\u001b[39;49m\u001b[39mpng_cases\u001b[39;49m\u001b[39m\"\u001b[39;49m)[\u001b[39m0\u001b[39m]\n\u001b[0;32m      8\u001b[0m segment_camera(config, case, image)\n",
      "File \u001b[1;32md:\\Documents\\instability-processing\\methods.py:30\u001b[0m, in \u001b[0;36mget_image_files\u001b[1;34m(config, case, folder)\u001b[0m\n\u001b[0;32m     28\u001b[0m \u001b[39mif\u001b[39;00m os\u001b[39m.\u001b[39mpath\u001b[39m.\u001b[39mexists(dir_path) \u001b[39m==\u001b[39m \u001b[39mFalse\u001b[39;00m:\n\u001b[0;32m     29\u001b[0m     logging\u001b[39m.\u001b[39merror(\u001b[39mf\u001b[39m\u001b[39m\"\u001b[39m\u001b[39mData directory \u001b[39m\u001b[39m{\u001b[39;00mdir_path\u001b[39m}\u001b[39;00m\u001b[39m doesn\u001b[39m\u001b[39m'\u001b[39m\u001b[39mt exsist. Please check config for valid path.\u001b[39m\u001b[39m\"\u001b[39m)\n\u001b[1;32m---> 30\u001b[0m     exit()\n\u001b[0;32m     32\u001b[0m dat_path \u001b[39m=\u001b[39m os\u001b[39m.\u001b[39mpath\u001b[39m.\u001b[39mjoin(config[\u001b[39m\"\u001b[39m\u001b[39mdata_path\u001b[39m\u001b[39m\"\u001b[39m], folder, case)\n\u001b[0;32m     33\u001b[0m \u001b[39mif\u001b[39;00m os\u001b[39m.\u001b[39mpath\u001b[39m.\u001b[39mexists(dat_path) \u001b[39m==\u001b[39m \u001b[39mFalse\u001b[39;00m:\n",
      "\u001b[1;31mNameError\u001b[0m: name 'exit' is not defined"
     ]
    }
   ],
   "source": [
    "# read config\n",
    "config = get_config()\n",
    "# get dev case\n",
    "case = config[\"cases\"][0]\n",
    "# get image name\n",
    "image = get_image_files(config, case, \"png_cases\")[0]\n",
    "\n",
    "segment_camera(config, case, image)"
   ]
  },
  {
   "cell_type": "code",
   "execution_count": null,
   "metadata": {},
   "outputs": [],
   "source": []
  }
 ],
 "metadata": {
  "kernelspec": {
   "display_name": "Python 3.7.6 64-bit",
   "language": "python",
   "name": "python3"
  },
  "language_info": {
   "codemirror_mode": {
    "name": "ipython",
    "version": 3
   },
   "file_extension": ".py",
   "mimetype": "text/x-python",
   "name": "python",
   "nbconvert_exporter": "python",
   "pygments_lexer": "ipython3",
   "version": "3.10.10"
  },
  "vscode": {
   "interpreter": {
    "hash": "d49c3f6d6dd49f9272b571d9fad348ab55b8c6c3f691520d74ed0af1f69c3dd8"
   }
  }
 },
 "nbformat": 4,
 "nbformat_minor": 2
}
