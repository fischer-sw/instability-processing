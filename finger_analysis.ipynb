{
 "cells": [
  {
   "attachments": {},
   "cell_type": "markdown",
   "metadata": {},
   "source": [
    "# Image Analysis"
   ]
  },
  {
   "cell_type": "code",
   "execution_count": 91,
   "metadata": {},
   "outputs": [
    {
     "name": "stdout",
     "output_type": "stream",
     "text": [
      "The autoreload extension is already loaded. To reload it, use:\n",
      "  %reload_ext autoreload\n"
     ]
    }
   ],
   "source": [
    "# basic imports and notebook configurations\n",
    "# standard Python modules\n",
    "import logging\n",
    "import os\n",
    "import sys\n",
    "\n",
    "# additional Python modules\n",
    "import matplotlib.pyplot as plt\n",
    "%load_ext autoreload\n",
    "%autoreload 2\n",
    "%matplotlib inline\n",
    "\n",
    "# own python modules\n",
    "from methods import *\n",
    "from fingers import *\n",
    "\n",
    "# %aimport analyis\n",
    "#importlib.reload(influx_db)\n",
    "#importlib.reload(plot_tools)\n",
    "plt.style.use('classic')"
   ]
  },
  {
   "attachments": {},
   "cell_type": "markdown",
   "metadata": {},
   "source": [
    "## logging configuration"
   ]
  },
  {
   "cell_type": "code",
   "execution_count": 92,
   "metadata": {},
   "outputs": [],
   "source": [
    "logging.basicConfig(format='%(asctime)s %(levelname)s %(message)s', datefmt='%Y-%m-%d %H:%M:%S')\n",
    "log = logging.getLogger(os.path.splitext(os.path.basename(sys.argv[0]))[0])\n",
    "# log.setLevel(logging.INFO)"
   ]
  },
  {
   "attachments": {},
   "cell_type": "markdown",
   "metadata": {},
   "source": [
    "### Development setup"
   ]
  },
  {
   "attachments": {},
   "cell_type": "markdown",
   "metadata": {},
   "source": []
  },
  {
   "cell_type": "code",
   "execution_count": 93,
   "metadata": {},
   "outputs": [
    {
     "name": "stderr",
     "output_type": "stream",
     "text": [
      "2023-05-22 14:41:39,625 - INFO - fingers.py - proc_cases - -------------------\n",
      "2023-05-22 14:41:39,627 - INFO - fingers.py - proc_cases - Starting processing case 0.6mm2lflow2\n",
      "2023-05-22 14:41:39,627 - INFO - fingers.py - proc_cases - -------------------\n",
      "2023-05-22 14:41:39,807 - INFO - methods.py - get_image_files - Found 70 images for case 0.6mm2lflow2\n",
      "2023-05-22 14:41:39,837 - INFO - methods.py - get_image_files - Found 70 images for case 0.6mm2lflow2\n",
      "2023-05-22 14:43:39,310 - INFO - fingers.py - proc_cases - Saved ratio fig at \\\\gssnas\\bigdata\\FWDT\\DFischer\\image_proc\\results\\finger_data\\0.6mm2lflow2\\plots\\ratio.png\n"
     ]
    },
    {
     "data": {
      "image/png": "[encoded data removed]",
      "text/plain": [
       "<Figure size 640x480 with 1 Axes>"
      ]
     },
     "metadata": {},
     "output_type": "display_data"
    },
    {
     "name": "stderr",
     "output_type": "stream",
     "text": [
      "2023-05-22 14:43:39,489 - INFO - fingers.py - proc_cases - Saved ratio data at \\\\gssnas\\bigdata\\FWDT\\DFischer\\image_proc\\results\\finger_data\\0.6mm2lflow2\\ratio\\ratio.csv\n"
     ]
    }
   ],
   "source": [
    "from fingers import *\n",
    "\n",
    "config = get_config()\n",
    "# reset_cases(config)\n",
    "proc_cases(config)"
   ]
  }
 ],
 "metadata": {
  "kernelspec": {
   "display_name": "Python 3.7.6 64-bit",
   "language": "python",
   "name": "python3"
  },
  "language_info": {
   "codemirror_mode": {
    "name": "ipython",
    "version": 3
   },
   "file_extension": ".py",
   "mimetype": "text/x-python",
   "name": "python",
   "nbconvert_exporter": "python",
   "pygments_lexer": "ipython3",
   "version": "3.10.4"
  },
  "vscode": {
   "interpreter": {
    "hash": "d49c3f6d6dd49f9272b571d9fad348ab55b8c6c3f691520d74ed0af1f69c3dd8"
   }
  }
 },
 "nbformat": 4,
 "nbformat_minor": 2
}
