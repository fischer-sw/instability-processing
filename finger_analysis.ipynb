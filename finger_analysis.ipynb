{
 "cells": [
  {
   "attachments": {},
   "cell_type": "markdown",
   "metadata": {},
   "source": [
    "# Image Analysis"
   ]
  },
  {
   "cell_type": "code",
   "execution_count": 58,
   "metadata": {},
   "outputs": [
    {
     "name": "stdout",
     "output_type": "stream",
     "text": [
      "The autoreload extension is already loaded. To reload it, use:\n",
      "  %reload_ext autoreload\n"
     ]
    }
   ],
   "source": [
    "# basic imports and notebook configurations\n",
    "# standard Python modules\n",
    "import logging\n",
    "import os\n",
    "import sys\n",
    "\n",
    "# additional Python modules\n",
    "import matplotlib.pyplot as plt\n",
    "%load_ext autoreload\n",
    "%autoreload 2\n",
    "%matplotlib inline\n",
    "\n",
    "# own python modules\n",
    "from methods import *\n",
    "from fingers import *\n",
    "\n",
    "# %aimport analyis\n",
    "#importlib.reload(influx_db)\n",
    "#importlib.reload(plot_tools)\n",
    "plt.style.use('classic')"
   ]
  },
  {
   "attachments": {},
   "cell_type": "markdown",
   "metadata": {},
   "source": [
    "## logging configuration"
   ]
  },
  {
   "cell_type": "code",
   "execution_count": 59,
   "metadata": {},
   "outputs": [],
   "source": [
    "logging.basicConfig(format='%(asctime)s %(levelname)s %(message)s', datefmt='%Y-%m-%d %H:%M:%S')\n",
    "log = logging.getLogger(os.path.splitext(os.path.basename(sys.argv[0]))[0])\n",
    "# log.setLevel(logging.INFO)"
   ]
  },
  {
   "attachments": {},
   "cell_type": "markdown",
   "metadata": {},
   "source": [
    "### Development setup"
   ]
  },
  {
   "attachments": {},
   "cell_type": "markdown",
   "metadata": {},
   "source": []
  },
  {
   "cell_type": "code",
   "execution_count": 60,
   "metadata": {},
   "outputs": [
    {
     "name": "stderr",
     "output_type": "stream",
     "text": [
      "2023-05-22 11:22:41,787 - INFO - fingers.py - proc_cases - -------------------\n",
      "2023-05-22 11:22:41,789 - INFO - fingers.py - proc_cases - Starting processing case 0.1mmspacer_0.015ml_2\n",
      "2023-05-22 11:22:41,790 - INFO - fingers.py - proc_cases - -------------------\n",
      "2023-05-22 11:22:41,877 - INFO - methods.py - get_image_files - Found 136 images for case 0.1mmspacer_0.015ml_2\n",
      "2023-05-22 11:22:41,908 - INFO - methods.py - get_image_files - Found 136 images for case 0.1mmspacer_0.015ml_2\n"
     ]
    },
    {
     "ename": "error",
     "evalue": "OpenCV(4.6.0) D:\\a\\opencv-python\\opencv-python\\opencv\\modules\\imgproc\\src\\color.cpp:182: error: (-215:Assertion failed) !_src.empty() in function 'cv::cvtColor'\n",
     "output_type": "error",
     "traceback": [
      "\u001b[1;31m---------------------------------------------------------------------------\u001b[0m",
      "\u001b[1;31mRemoteTraceback\u001b[0m                           Traceback (most recent call last)",
      "\u001b[1;31mRemoteTraceback\u001b[0m: \n\"\"\"\nTraceback (most recent call last):\n  File \"c:\\Users\\TPG247\\AppData\\Local\\Programs\\Python\\Python310\\lib\\multiprocessing\\pool.py\", line 125, in worker\n    result = (True, func(*args, **kwds))\n  File \"c:\\Users\\TPG247\\AppData\\Local\\Programs\\Python\\Python310\\lib\\multiprocessing\\pool.py\", line 48, in mapstar\n    return list(map(*args))\n  File \"c:\\Users\\TPG247\\Documents\\Daniel Fischer\\instability-processing\\fingers.py\", line 381, in get_fingers\n    windowed_image = int_window(config, case, img_name, base_image)\n  File \"c:\\Users\\TPG247\\Documents\\Daniel Fischer\\instability-processing\\fingers.py\", line 192, in int_window\n    image = read_image(config, \"int_window\", img_name, case)\n  File \"c:\\Users\\TPG247\\Documents\\Daniel Fischer\\instability-processing\\methods.py\", line 215, in read_image\n    img = cv2.cvtColor(img, cv2.COLOR_BGR2GRAY)\ncv2.error: OpenCV(4.6.0) D:\\a\\opencv-python\\opencv-python\\opencv\\modules\\imgproc\\src\\color.cpp:182: error: (-215:Assertion failed) !_src.empty() in function 'cv::cvtColor'\n\n\"\"\"",
      "\nThe above exception was the direct cause of the following exception:\n",
      "\u001b[1;31merror\u001b[0m                                     Traceback (most recent call last)",
      "\u001b[1;32mc:\\Users\\TPG247\\Documents\\Daniel Fischer\\instability-processing\\finger_analysis.ipynb Cell 7\u001b[0m in \u001b[0;36m<cell line: 4>\u001b[1;34m()\u001b[0m\n\u001b[0;32m      <a href='vscode-notebook-cell:/c%3A/Users/TPG247/Documents/Daniel%20Fischer/instability-processing/finger_analysis.ipynb#X15sZmlsZQ%3D%3D?line=0'>1</a>\u001b[0m \u001b[39mfrom\u001b[39;00m \u001b[39mfingers\u001b[39;00m \u001b[39mimport\u001b[39;00m \u001b[39m*\u001b[39m\n\u001b[0;32m      <a href='vscode-notebook-cell:/c%3A/Users/TPG247/Documents/Daniel%20Fischer/instability-processing/finger_analysis.ipynb#X15sZmlsZQ%3D%3D?line=2'>3</a>\u001b[0m config \u001b[39m=\u001b[39m get_config()\n\u001b[1;32m----> <a href='vscode-notebook-cell:/c%3A/Users/TPG247/Documents/Daniel%20Fischer/instability-processing/finger_analysis.ipynb#X15sZmlsZQ%3D%3D?line=3'>4</a>\u001b[0m proc_cases(config)\n",
      "File \u001b[1;32mc:\\Users\\TPG247\\Documents\\Daniel Fischer\\instability-processing\\fingers.py:67\u001b[0m, in \u001b[0;36mproc_cases\u001b[1;34m(config)\u001b[0m\n\u001b[0;32m     65\u001b[0m cpus \u001b[39m=\u001b[39m os\u001b[39m.\u001b[39mcpu_count()\n\u001b[0;32m     66\u001b[0m p \u001b[39m=\u001b[39m Pool(cpus)\n\u001b[1;32m---> 67\u001b[0m \u001b[39mfor\u001b[39;00m rat \u001b[39min\u001b[39;00m p\u001b[39m.\u001b[39;49mmap(partial(get_fingers, config\u001b[39m=\u001b[39;49mconfig, case\u001b[39m=\u001b[39;49mcas, background_img\u001b[39m=\u001b[39;49mbackground_img), images):\n\u001b[0;32m     68\u001b[0m     logging\u001b[39m.\u001b[39mdebug(\u001b[39mf\u001b[39m\u001b[39m\"\u001b[39m\u001b[39mMulti res : \u001b[39m\u001b[39m{\u001b[39;00mrat\u001b[39m}\u001b[39;00m\u001b[39m\"\u001b[39m)\n\u001b[0;32m     69\u001b[0m     res[\u001b[39m\"\u001b[39m\u001b[39mimage\u001b[39m\u001b[39m\"\u001b[39m]\u001b[39m.\u001b[39mappend(\u001b[39mint\u001b[39m(rat[\u001b[39m0\u001b[39m]\u001b[39m.\u001b[39msplit(\u001b[39m'\u001b[39m\u001b[39m_\u001b[39m\u001b[39m'\u001b[39m)[\u001b[39m0\u001b[39m]))\n",
      "File \u001b[1;32mc:\\Users\\TPG247\\AppData\\Local\\Programs\\Python\\Python310\\lib\\multiprocessing\\pool.py:364\u001b[0m, in \u001b[0;36mPool.map\u001b[1;34m(self, func, iterable, chunksize)\u001b[0m\n\u001b[0;32m    359\u001b[0m \u001b[39mdef\u001b[39;00m \u001b[39mmap\u001b[39m(\u001b[39mself\u001b[39m, func, iterable, chunksize\u001b[39m=\u001b[39m\u001b[39mNone\u001b[39;00m):\n\u001b[0;32m    360\u001b[0m     \u001b[39m'''\u001b[39;00m\n\u001b[0;32m    361\u001b[0m \u001b[39m    Apply `func` to each element in `iterable`, collecting the results\u001b[39;00m\n\u001b[0;32m    362\u001b[0m \u001b[39m    in a list that is returned.\u001b[39;00m\n\u001b[0;32m    363\u001b[0m \u001b[39m    '''\u001b[39;00m\n\u001b[1;32m--> 364\u001b[0m     \u001b[39mreturn\u001b[39;00m \u001b[39mself\u001b[39;49m\u001b[39m.\u001b[39;49m_map_async(func, iterable, mapstar, chunksize)\u001b[39m.\u001b[39;49mget()\n",
      "File \u001b[1;32mc:\\Users\\TPG247\\AppData\\Local\\Programs\\Python\\Python310\\lib\\multiprocessing\\pool.py:771\u001b[0m, in \u001b[0;36mApplyResult.get\u001b[1;34m(self, timeout)\u001b[0m\n\u001b[0;32m    769\u001b[0m     \u001b[39mreturn\u001b[39;00m \u001b[39mself\u001b[39m\u001b[39m.\u001b[39m_value\n\u001b[0;32m    770\u001b[0m \u001b[39melse\u001b[39;00m:\n\u001b[1;32m--> 771\u001b[0m     \u001b[39mraise\u001b[39;00m \u001b[39mself\u001b[39m\u001b[39m.\u001b[39m_value\n",
      "\u001b[1;31merror\u001b[0m: OpenCV(4.6.0) D:\\a\\opencv-python\\opencv-python\\opencv\\modules\\imgproc\\src\\color.cpp:182: error: (-215:Assertion failed) !_src.empty() in function 'cv::cvtColor'\n"
     ]
    }
   ],
   "source": [
    "from fingers import *\n",
    "\n",
    "config = get_config()\n",
    "proc_cases(config)"
   ]
  }
 ],
 "metadata": {
  "kernelspec": {
   "display_name": "Python 3.7.6 64-bit",
   "language": "python",
   "name": "python3"
  },
  "language_info": {
   "codemirror_mode": {
    "name": "ipython",
    "version": 3
   },
   "file_extension": ".py",
   "mimetype": "text/x-python",
   "name": "python",
   "nbconvert_exporter": "python",
   "pygments_lexer": "ipython3",
   "version": "3.10.8"
  },
  "vscode": {
   "interpreter": {
    "hash": "d49c3f6d6dd49f9272b571d9fad348ab55b8c6c3f691520d74ed0af1f69c3dd8"
   }
  }
 },
 "nbformat": 4,
 "nbformat_minor": 2
}
